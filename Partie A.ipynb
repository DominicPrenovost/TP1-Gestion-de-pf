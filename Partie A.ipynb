{
 "cells": [
  {
   "cell_type": "code",
   "execution_count": 1,
   "metadata": {},
   "outputs": [],
   "source": [
    "import pandas as pd\n",
    "import numpy as np\n",
    "import matplotlib.pyplot as plt"
   ]
  },
  {
   "cell_type": "markdown",
   "metadata": {},
   "source": [
    "1) Construire le graphique de « mean-variance locus » (sans l’actif sans risque) de ces 5\n",
    "portefeuilles d’industrie. Présentez et discutez ces résultats en spécifiant chaque portefeuille\n",
    "d’industrie dans le graphique"
   ]
  },
  {
   "cell_type": "code",
   "execution_count": 2,
   "metadata": {},
   "outputs": [],
   "source": [
    "df = pd.read_csv('/Users/dominicprenovost/Programmation/Markowitz/5_Industry_Portfolios.CSV', header=6)\n",
    "\n",
    "df_5 = df.iloc[1109:1169]\n",
    "\n",
    "df_5 = df_5.rename(columns={'Unnamed: 0': 'Date'})\n",
    "\n",
    "df_5['Date'] = pd.to_datetime(df_5['Date'], format='%Y%m')\n",
    "\n",
    "df_5.set_index('Date', inplace=True)\n",
    "\n",
    "df_5 =df_5.apply(pd.to_numeric, errors='coerce')"
   ]
  },
  {
   "cell_type": "code",
   "execution_count": 3,
   "metadata": {},
   "outputs": [
    {
     "data": {
      "text/html": [
       "<div>\n",
       "<style scoped>\n",
       "    .dataframe tbody tr th:only-of-type {\n",
       "        vertical-align: middle;\n",
       "    }\n",
       "\n",
       "    .dataframe tbody tr th {\n",
       "        vertical-align: top;\n",
       "    }\n",
       "\n",
       "    .dataframe thead th {\n",
       "        text-align: right;\n",
       "    }\n",
       "</style>\n",
       "<table border=\"1\" class=\"dataframe\">\n",
       "  <thead>\n",
       "    <tr style=\"text-align: right;\">\n",
       "      <th></th>\n",
       "      <th>Unnamed: 0</th>\n",
       "      <th>Cnsmr</th>\n",
       "      <th>Manuf</th>\n",
       "      <th>HiTec</th>\n",
       "      <th>Hlth</th>\n",
       "      <th>Other</th>\n",
       "    </tr>\n",
       "  </thead>\n",
       "  <tbody>\n",
       "    <tr>\n",
       "      <th>1049</th>\n",
       "      <td>201312</td>\n",
       "      <td>1.12</td>\n",
       "      <td>2.88</td>\n",
       "      <td>3.98</td>\n",
       "      <td>0.62</td>\n",
       "      <td>3.10</td>\n",
       "    </tr>\n",
       "    <tr>\n",
       "      <th>1050</th>\n",
       "      <td>201401</td>\n",
       "      <td>-5.95</td>\n",
       "      <td>-4.10</td>\n",
       "      <td>-1.93</td>\n",
       "      <td>1.88</td>\n",
       "      <td>-4.37</td>\n",
       "    </tr>\n",
       "    <tr>\n",
       "      <th>1051</th>\n",
       "      <td>201402</td>\n",
       "      <td>4.91</td>\n",
       "      <td>5.10</td>\n",
       "      <td>4.58</td>\n",
       "      <td>6.48</td>\n",
       "      <td>3.49</td>\n",
       "    </tr>\n",
       "    <tr>\n",
       "      <th>1052</th>\n",
       "      <td>201403</td>\n",
       "      <td>0.71</td>\n",
       "      <td>1.45</td>\n",
       "      <td>-0.45</td>\n",
       "      <td>-2.56</td>\n",
       "      <td>1.98</td>\n",
       "    </tr>\n",
       "    <tr>\n",
       "      <th>1053</th>\n",
       "      <td>201404</td>\n",
       "      <td>0.06</td>\n",
       "      <td>3.04</td>\n",
       "      <td>-0.74</td>\n",
       "      <td>-0.41</td>\n",
       "      <td>-1.97</td>\n",
       "    </tr>\n",
       "    <tr>\n",
       "      <th>...</th>\n",
       "      <td>...</td>\n",
       "      <td>...</td>\n",
       "      <td>...</td>\n",
       "      <td>...</td>\n",
       "      <td>...</td>\n",
       "      <td>...</td>\n",
       "    </tr>\n",
       "    <tr>\n",
       "      <th>1164</th>\n",
       "      <td>202307</td>\n",
       "      <td>2.36</td>\n",
       "      <td>4.15</td>\n",
       "      <td>4.10</td>\n",
       "      <td>-0.11</td>\n",
       "      <td>5.24</td>\n",
       "    </tr>\n",
       "    <tr>\n",
       "      <th>1165</th>\n",
       "      <td>202308</td>\n",
       "      <td>-1.82</td>\n",
       "      <td>-1.82</td>\n",
       "      <td>-1.58</td>\n",
       "      <td>-0.22</td>\n",
       "      <td>-3.35</td>\n",
       "    </tr>\n",
       "    <tr>\n",
       "      <th>1166</th>\n",
       "      <td>202309</td>\n",
       "      <td>-4.94</td>\n",
       "      <td>-3.95</td>\n",
       "      <td>-5.82</td>\n",
       "      <td>-4.71</td>\n",
       "      <td>-3.41</td>\n",
       "    </tr>\n",
       "    <tr>\n",
       "      <th>1167</th>\n",
       "      <td>202310</td>\n",
       "      <td>-3.43</td>\n",
       "      <td>-3.05</td>\n",
       "      <td>-1.68</td>\n",
       "      <td>-4.58</td>\n",
       "      <td>-2.53</td>\n",
       "    </tr>\n",
       "    <tr>\n",
       "      <th>1168</th>\n",
       "      <td>202311</td>\n",
       "      <td>7.88</td>\n",
       "      <td>5.22</td>\n",
       "      <td>11.65</td>\n",
       "      <td>5.80</td>\n",
       "      <td>10.41</td>\n",
       "    </tr>\n",
       "  </tbody>\n",
       "</table>\n",
       "<p>120 rows × 6 columns</p>\n",
       "</div>"
      ],
      "text/plain": [
       "     Unnamed: 0    Cnsmr    Manuf    HiTec    Hlth     Other\n",
       "1049     201312     1.12     2.88     3.98     0.62     3.10\n",
       "1050     201401    -5.95    -4.10    -1.93     1.88    -4.37\n",
       "1051     201402     4.91     5.10     4.58     6.48     3.49\n",
       "1052     201403     0.71     1.45    -0.45    -2.56     1.98\n",
       "1053     201404     0.06     3.04    -0.74    -0.41    -1.97\n",
       "...         ...      ...      ...      ...      ...      ...\n",
       "1164     202307     2.36     4.15     4.10    -0.11     5.24\n",
       "1165     202308    -1.82    -1.82    -1.58    -0.22    -3.35\n",
       "1166     202309    -4.94    -3.95    -5.82    -4.71    -3.41\n",
       "1167     202310    -3.43    -3.05    -1.68    -4.58    -2.53\n",
       "1168     202311     7.88     5.22    11.65     5.80    10.41\n",
       "\n",
       "[120 rows x 6 columns]"
      ]
     },
     "execution_count": 3,
     "metadata": {},
     "output_type": "execute_result"
    }
   ],
   "source": [
    "df_10 = df.iloc[1049:1169]\n",
    "df_10"
   ]
  },
  {
   "cell_type": "code",
   "execution_count": 4,
   "metadata": {},
   "outputs": [],
   "source": [
    "ret = df_5.values / 100\n",
    "variance = np.var(ret, axis=0, keepdims=True)\n",
    "std = np.sqrt(np.var(ret, axis=0, keepdims=True))\n",
    "\n",
    "min_mu = -0.1\n",
    "max_mu = 0.1\n",
    "nb_pf = 100\n",
    "\n",
    "target_ret = np.linspace(min_mu, max_mu, 100)\n",
    "\n",
    "rf = 0.44 / 100"
   ]
  },
  {
   "cell_type": "code",
   "execution_count": 5,
   "metadata": {},
   "outputs": [],
   "source": [
    "z_bar = np.transpose(np.mean(ret, axis=0, keepdims=True))\n",
    "sigma = np.cov(ret, rowvar=False)"
   ]
  },
  {
   "cell_type": "code",
   "execution_count": 6,
   "metadata": {},
   "outputs": [
    {
     "name": "stderr",
     "output_type": "stream",
     "text": [
      "/var/folders/ns/nlrkcsjd7j70p9jvf2jl5t4c0000gn/T/ipykernel_2151/853496605.py:38: DeprecationWarning: Conversion of an array with ndim > 0 to a scalar is deprecated, and will error in future. Ensure you extract a single element from your array before performing this operation. (Deprecated NumPy 1.25.)\n",
      "  sigma2_v2[i] = rend_ex**2 / (C - 2*B*rf + A*rf**2)\n"
     ]
    }
   ],
   "source": [
    "mu = np.empty(nb_pf)\n",
    "weights_v1 = np.empty((nb_pf, 5))\n",
    "weights_v2 = np.empty((nb_pf, 5))\n",
    "sigma2_v1 = np.empty(nb_pf)\n",
    "sigma2_v2 = np.empty(nb_pf)\n",
    "sigma_v1 = np.empty(nb_pf)\n",
    "sigma_v2 = np.empty(nb_pf)\n",
    "\n",
    "mu[:] = np.NaN\n",
    "weights_v1[:] = np.NaN\n",
    "weights_v2[:] = np.NaN\n",
    "sigma2_v1[:] = np.NaN\n",
    "sigma2_v2[:] = np.NaN\n",
    "sigma_v1[:] = np.NaN\n",
    "sigma_v2[:] = np.NaN\n",
    "sigma_v2[:] = np.NaN\n",
    "\n",
    "A = np.transpose(np.ones((5,1))) @ np.linalg.inv(sigma) @ np.ones((5,1))\n",
    "B = np.transpose(np.ones((5,1))) @ np.linalg.inv(sigma) @ z_bar\n",
    "C = np.transpose(z_bar) @ np.linalg.inv(sigma) @ z_bar\n",
    "delta = A*C - B**2\n",
    "\n",
    "# Calcul des poids et des variances sans rf\n",
    "for i in range(nb_pf):\n",
    "    mu = target_ret[i]\n",
    "    lambd = (C - mu*B)/delta\n",
    "    gamma = (A*mu - B)/delta\n",
    "    weights_v1[i] = np.squeeze(lambd * np.dot(np.linalg.inv(sigma), np.ones((5,1))) + gamma * np.dot(np.linalg.inv(sigma), z_bar))\n",
    "    sigma2_v1[i] = (np.transpose(weights_v1[i]) @ sigma @ weights_v1[i])\n",
    "    sigma_v1[i] = np.sqrt(sigma2_v1[i])\n",
    "    \n",
    "    \n",
    "# Calcul des poids et des variances avec rf\n",
    "for i in range(nb_pf):\n",
    "    rend_ex = target_ret[i] - rf\n",
    "    gamma = rend_ex / (C - 2*B*rf + A*rf**2)\n",
    "    weights_v2[i] = np.squeeze(gamma * np.dot(np.linalg.inv(sigma), z_bar - rf*np.ones((5,1))))\n",
    "    sigma2_v2[i] = rend_ex**2 / (C - 2*B*rf + A*rf**2)\n",
    "    sigma_v2[i] = np.sqrt(sigma2_v2[i])\n",
    "\n",
    "\n",
    "#portefeuille tangent\n",
    "wt = (np.linalg.inv(sigma) * (z_bar - rf*np.ones((5,1)))) / (B - A*rf)\n",
    "rend_wt = (C - B*rf) / (B - rf*A)\n",
    "var_wt = (C - 2*B*rf + A*rf**2) / ((B - rf*A)**2)\n",
    "std_wt = np.sqrt(var_wt)"
   ]
  },
  {
   "cell_type": "code",
   "execution_count": 7,
   "metadata": {},
   "outputs": [
    {
     "data": {
      "text/plain": [
       "(100, 5)"
      ]
     },
     "execution_count": 7,
     "metadata": {},
     "output_type": "execute_result"
    }
   ],
   "source": [
    "weights_v1.shape"
   ]
  },
  {
   "cell_type": "code",
   "execution_count": 16,
   "metadata": {},
   "outputs": [
    {
     "data": {
      "text/plain": [
       "<matplotlib.collections.PathCollection at 0x17d56e190>"
      ]
     },
     "execution_count": 16,
     "metadata": {},
     "output_type": "execute_result"
    },
    {
     "data": {
      "image/png": "[encoded data removed]",
      "text/plain": [
       "<Figure size 640x480 with 1 Axes>"
      ]
     },
     "metadata": {},
     "output_type": "display_data"
    }
   ],
   "source": [
    "colors = ['red', 'green', 'blue', 'purple', 'orange']\n",
    "\n",
    "plt.plot(sigma2_v1, target_ret, linestyle='-')\n",
    "plt.scatter(variance, z_bar, c=colors)"
   ]
  },
  {
   "cell_type": "code",
   "execution_count": 19,
   "metadata": {},
   "outputs": [
    {
     "data": {
      "text/plain": [
       "(0.0, 0.7019426205977841)"
      ]
     },
     "execution_count": 19,
     "metadata": {},
     "output_type": "execute_result"
    },
    {
     "data": {
      "image/png": "[encoded data removed]",
      "text/plain": [
       "<Figure size 640x480 with 1 Axes>"
      ]
     },
     "metadata": {},
     "output_type": "display_data"
    }
   ],
   "source": [
    "colors = ['red', 'green', 'blue', 'purple', 'orange']\n",
    "\n",
    "plt.plot(sigma_v1, target_ret, linestyle='-')\n",
    "plt.plot(sigma_v2, target_ret, linestyle='--')\n",
    "plt.scatter(std, z_bar, linestyle='dotted', c=colors)\n",
    "plt.scatter(std_wt, rend_wt, color='black', marker='x', label='Tangent Portfolio')\n",
    "plt.legend()\n",
    "plt.xlim(0)"
   ]
  },
  {
   "cell_type": "code",
   "execution_count": 10,
   "metadata": {},
   "outputs": [
    {
     "name": "stdout",
     "output_type": "stream",
     "text": [
      "Weights of the tangent portfolio:\n",
      "[[ 36.04815747  -4.21447389 -24.36407029  -1.83514191  -3.37966446]\n",
      " [ -2.94475057  21.97089224   3.30158652  -4.3596087  -17.08787017]\n",
      " [-45.80259885   8.88296218  54.63914524  -9.24972792 -11.59381113]\n",
      " [ -0.58130276  -1.97640114  -1.55855242   5.78485742   0.41646129]\n",
      " [ -2.76543042 -20.01114501  -5.04632357   1.0757988   25.65101205]]\n",
      "\n",
      "Expected return of the tangent portfolio:\n",
      "[[0.19020324]]\n",
      "\n",
      "Variance of the tangent portfolio:\n",
      "[[0.44706374]]\n",
      "\n",
      "Standard deviation of the tangent portfolio:\n",
      "[[0.66862825]]\n"
     ]
    }
   ],
   "source": [
    "print(\"Weights of the tangent portfolio:\")\n",
    "print(wt)\n",
    "print(\"\\nExpected return of the tangent portfolio:\")\n",
    "print(rend_wt)\n",
    "print(\"\\nVariance of the tangent portfolio:\")\n",
    "print(var_wt)\n",
    "print(\"\\nStandard deviation of the tangent portfolio:\")\n",
    "print(std_wt)"
   ]
  },
  {
   "cell_type": "code",
   "execution_count": 11,
   "metadata": {},
   "outputs": [
    {
     "name": "stdout",
     "output_type": "stream",
     "text": [
      "Sharpe ratio of the tangent portfolio:\n",
      "[[0.27788721]]\n",
      "Sharpe ratio of the portfolio with the maximum Sharpe ratio:\n",
      "0.2773106992619505\n",
      "Index of the portfolio with the maximum Sharpe ratio:\n",
      "99\n"
     ]
    }
   ],
   "source": [
    "# Calculate the Sharpe ratio for the tangent portfolio\n",
    "sharpe_ratio_tangent = (rend_wt - rf) / std_wt\n",
    "\n",
    "# Calculate the Sharpe ratio for other portfolios\n",
    "sr = (target_ret - rf) / sigma_v1\n",
    "\n",
    "# Find the portfolio with the maximum Sharpe ratio\n",
    "max_sharpe_ratio = np.max(sr)\n",
    "\n",
    "# Find the index of the portfolio with the maximum Sharpe ratio\n",
    "max_sharpe_ratio_index = np.argmax(sr)\n",
    "\n",
    "# Print the Sharpe ratio for the tangent portfolio\n",
    "print(\"Sharpe ratio of the tangent portfolio:\")\n",
    "print(sharpe_ratio_tangent)\n",
    "\n",
    "# Print the Sharpe ratio for the portfolio with the maximum Sharpe ratio\n",
    "print(\"Sharpe ratio of the portfolio with the maximum Sharpe ratio:\")\n",
    "print(max_sharpe_ratio)\n",
    "\n",
    "# Print the index of the portfolio with the maximum Sharpe ratio\n",
    "print(\"Index of the portfolio with the maximum Sharpe ratio:\")\n",
    "print(max_sharpe_ratio_index)\n"
   ]
  },
  {
   "cell_type": "code",
   "execution_count": null,
   "metadata": {},
   "outputs": [],
   "source": []
  }
 ],
 "metadata": {
  "kernelspec": {
   "display_name": "HECFinance",
   "language": "python",
   "name": "python3"
  },
  "language_info": {
   "codemirror_mode": {
    "name": "ipython",
    "version": 3
   },
   "file_extension": ".py",
   "mimetype": "text/x-python",
   "name": "python",
   "nbconvert_exporter": "python",
   "pygments_lexer": "ipython3",
   "version": "3.11.4"
  }
 },
 "nbformat": 4,
 "nbformat_minor": 2
}

{
 "cells": [
  {
   "cell_type": "code",
   "execution_count": 1,
   "metadata": {},
   "outputs": [],
   "source": [
    "import pandas as pd\n",
    "import numpy as np\n",
    "import matplotlib.pyplot as plt\n",
    "import numpy as np\n",
    "import matplotlib.pyplot as plt\n",
    "from scipy.optimize import minimize\n",
    "from scipy.optimize import minimize, Bounds, LinearConstraint\n",
    "from itertools import combinations\n"
   ]
  },
  {
   "cell_type": "code",
   "execution_count": 3,
   "metadata": {},
   "outputs": [],
   "source": [
    "df = pd.read_csv('/Users/dominicprenovost/Programmation/TP1-Gestion-de-pf/5_Industry_Portfolios.CSV', header=6)\n",
    "\n",
    "df_5 = df.iloc[1108:1169]\n",
    "\n",
    "df_5 = df_5.rename(columns={'Unnamed: 0': 'Date'})\n",
    "\n",
    "df_5['Date'] = pd.to_datetime(df_5['Date'], format='%Y%m')\n",
    "\n",
    "df_5.set_index('Date', inplace=True)\n",
    "\n",
    "df_5 =df_5.apply(pd.to_numeric, errors='coerce')\n",
    "\n",
    "df_10 = df.iloc[1049:1169]\n",
    "ret = df_5.values / 100\n",
    "variance = np.var(ret, axis=0, keepdims=True)\n",
    "std = np.sqrt(np.var(ret, axis=0, keepdims=True))\n",
    "\n",
    "# Plage des rendements cibles\n",
    "target_returns = np.linspace(-0.10, 0.10, num=100)  # Génère 100 valeurs entre -10% et 10%\n",
    "\n",
    "rf = 0.44 / 100\n",
    "\n",
    "# Créer la liste portfolio_names à partir des noms de colonnes, en excluant la première colonne\n",
    "portfolio_names = df.columns[1:].tolist()\n",
    "\n",
    "# Définissons la matrice de covariance et le vecteur de rendements moyens\n",
    "Sigma = np.cov(ret.T)\n",
    "\n",
    "z_barre = np.mean(ret, axis=0)  \n",
    "Z_barre = z_barre  # Rendements espérés des actifs\n",
    "ones = np.ones((len(Z_barre))) # Vecteur de 1\n",
    "\n",
    "# Rendement espéré du portefeuille cible\n",
    "R_cible = 0.10  # Rendement espéré du portefeuille cible\n"
   ]
  },
  {
   "cell_type": "code",
   "execution_count": 4,
   "metadata": {},
   "outputs": [],
   "source": [
    "N = 5  # Nombre total d'actifs\n",
    "min_num_assets = 3\n",
    "max_num_assets = 3\n",
    "min_weight = 0.05  # poids minimum de 5%\n",
    "target_return = 0.10\n",
    "R_cible_basse = 0.01  # Rendement cible minimum de 5%\n",
    "R_cible_haute = 0.10  # Rendement cible maximum de 15%"
   ]
  },
  {
   "cell_type": "code",
   "execution_count": 5,
   "metadata": {},
   "outputs": [
    {
     "name": "stdout",
     "output_type": "stream",
     "text": [
      "Poids optimaux du portefeuille : [-9.63824458  1.83033794 15.78561241 -3.96809407 -3.0096117 ]\n"
     ]
    },
    {
     "name": "stderr",
     "output_type": "stream",
     "text": [
      "/Users/dominicprenovost/anaconda3/envs/HECFinance/lib/python3.11/site-packages/scipy/optimize/_hessian_update_strategy.py:182: UserWarning: delta_grad == 0.0. Check if the approximated function is linear. If the function is linear better results can be obtained by defining the Hessian as zero instead of using quasi-Newton approximations.\n",
      "  warn('delta_grad == 0.0. Check if the approximated '\n"
     ]
    }
   ],
   "source": [
    "# Fonction objectif : Variance du portefeuille\n",
    "def portfolio_variance(W,Sigma):\n",
    "    return W.T @ (Sigma @ W)\n",
    "\n",
    "# Poids initiaux : répartition uniforme\n",
    "W = np.ones(len(Z_barre)) * (1.0 / len(Z_barre))\n",
    "\n",
    "# Fonction d'optimisation\n",
    "def optimize(func, W, Sigma, target_return):\n",
    "\n",
    "    # Contraintes\n",
    "    opt_constraints = ({'type': 'eq', 'fun': lambda W: ones @ W.T - 1},  # La somme des poids doit être égale à 1\n",
    "                       {'type': 'eq', 'fun': lambda W: W.T @ z_barre - target_return})  # Le rendement attendu doit être égal au rendement cible\n",
    "\n",
    "    # Optimisation\n",
    "    optimal_weights = minimize(func, W, args=( Sigma), method='trust-constr', constraints=opt_constraints)\n",
    "\n",
    "    return optimal_weights.x\n",
    "\n",
    "# Appel de la fonction d'optimisation\n",
    "optimal_weights = optimize(portfolio_variance, W, Sigma, R_cible)\n",
    "\n",
    "print(\"Poids optimaux du portefeuille :\", optimal_weights)"
   ]
  },
  {
   "cell_type": "code",
   "execution_count": 6,
   "metadata": {},
   "outputs": [
    {
     "name": "stdout",
     "output_type": "stream",
     "text": [
      "Meilleure combinaison d'actifs: ['HiTec', 'Hlth ', 'Other']\n",
      "Poids optimaux: [ 0.36663048  0.75562886 -0.12225933]\n",
      "Variance minimale du portefeuille: 0.0023281872906225874\n"
     ]
    }
   ],
   "source": [
    "from scipy.optimize import minimize\n",
    "import numpy as np\n",
    "from itertools import combinations\n",
    "\n",
    "# Résultats initiaux\n",
    "best_variance = np.inf\n",
    "best_weights = None\n",
    "best_combination = None\n",
    "\n",
    "# Générer toutes les combinaisons de 3 portefeuilles parmi 5\n",
    "for combination in combinations(range(N), 3):\n",
    "    Sigma_sub = Sigma[np.ix_(combination, combination)]\n",
    "    Z_barre_sub = Z_barre[np.array(combination)]  # Assurez-vous que Z_barre_sub est correctement défini\n",
    "\n",
    "    initial_weights = np.ones(len(combination)) / len(combination)\n",
    "\n",
    "    # Définissez les contraintes en utilisant Z_barre_sub\n",
    "    current_constraints = [\n",
    "        {'type': 'eq', 'fun': lambda weights: np.sum(weights) - 1},  # Les poids doivent sommer à 1\n",
    "        {'type': 'ineq', 'fun': lambda weights: np.dot(weights, Z_barre_sub) - R_cible_basse},\n",
    "        {'type': 'ineq', 'fun': lambda weights: R_cible_haute - np.dot(weights, Z_barre_sub)}  # Utilisez np.dot ici pour la compatibilité dimensionnelle\n",
    "    ]\n",
    "\n",
    "    # Lancer l'optimisation avec Sigma_sub et Z_barre_sub\n",
    "    result = minimize(portfolio_variance, initial_weights, args=(Sigma_sub,), method='trust-constr', constraints=current_constraints)\n",
    "\n",
    "    if result.success and result.fun < best_variance:\n",
    "        best_variance = result.fun\n",
    "        best_weights = result.x\n",
    "        best_combination = [portfolio_names[i] for i in combination]  # Mappage des indices aux noms de portefeuilles\n",
    "\n",
    "# Affichage des résultats\n",
    "if best_combination is not None:\n",
    "    print(\"Meilleure combinaison d'actifs:\", best_combination)\n",
    "    print(\"Poids optimaux:\", best_weights)\n",
    "    print(\"Variance minimale du portefeuille:\", best_variance)"
   ]
  }
 ],
 "metadata": {
  "kernelspec": {
   "display_name": "HECFinance",
   "language": "python",
   "name": "python3"
  },
  "language_info": {
   "codemirror_mode": {
    "name": "ipython",
    "version": 3
   },
   "file_extension": ".py",
   "mimetype": "text/x-python",
   "name": "python",
   "nbconvert_exporter": "python",
   "pygments_lexer": "ipython3",
   "version": "3.11.4"
  }
 },
 "nbformat": 4,
 "nbformat_minor": 2
}

{
 "cells": [
  {
   "cell_type": "code",
   "execution_count": 2,
   "metadata": {},
   "outputs": [],
   "source": [
    "import pandas as pd\n",
    "import numpy as np\n",
    "import matplotlib.pyplot as plt"
   ]
  },
  {
   "cell_type": "code",
   "execution_count": 3,
   "metadata": {},
   "outputs": [],
   "source": [
    "df_5 = pd.read_csv('/Users/dominicprenovost/Programmation/Markowitz/5_Industry_Portfolios.CSV', header=6)\n",
    "\n",
    "df_5 = selected_rows = df_5.iloc[1109:1169]\n",
    "\n",
    "df_5 = df_5.rename(columns={'Unnamed: 0': 'Date'})\n",
    "\n",
    "df_5['Date'] = pd.to_datetime(df_5['Date'], format='%Y%m')\n",
    "\n",
    "df_5.set_index('Date', inplace=True)\n",
    "\n",
    "df_5 =df_5.apply(pd.to_numeric, errors='coerce')"
   ]
  },
  {
   "cell_type": "code",
   "execution_count": 4,
   "metadata": {},
   "outputs": [],
   "source": [
    "ret = df_5.values / 100\n",
    "\n",
    "min_mu = -0.1\n",
    "max_mu = 0.1\n",
    "nb_pf = 100\n",
    "\n",
    "target_ret = np.linspace(min_mu, max_mu, 100)"
   ]
  },
  {
   "cell_type": "code",
   "execution_count": 5,
   "metadata": {},
   "outputs": [],
   "source": [
    "z_bar = np.transpose(np.mean(ret, axis=0, keepdims=True))\n",
    "sigma = np.cov(ret, rowvar=False)"
   ]
  },
  {
   "cell_type": "code",
   "execution_count": 6,
   "metadata": {},
   "outputs": [
    {
     "data": {
      "text/plain": [
       " message: Optimization terminated successfully\n",
       " success: True\n",
       "  status: 0\n",
       "     fun: -1.1012917952935621\n",
       "       x: [ 5.488e-02  3.020e-02  0.000e+00  9.149e-01  1.128e-17]\n",
       "     nit: 5\n",
       "     jac: [-1.534e-04 -1.082e-04  7.599e-02  1.279e-05  6.191e-02]\n",
       "    nfev: 30\n",
       "    njev: 5"
      ]
     },
     "execution_count": 6,
     "metadata": {},
     "output_type": "execute_result"
    }
   ],
   "source": [
    "# Optimisation standard\n",
    "\n",
    "from scipy.optimize import minimize\n",
    "\n",
    "def negativeSR(w):\n",
    "    w = np.array(w)\n",
    "    R = np.sum(z_bar * w)\n",
    "    V = np.sqrt(np.dot(w.T, np.dot(sigma, w)))\n",
    "    SR = R/V\n",
    "    return -1*SR\n",
    "\n",
    "def check_sum(w):\n",
    "    return np.sum(w) - 1\n",
    "\n",
    "cons = ({'type': 'eq', 'fun': check_sum})\n",
    "\n",
    "w0 = [0.2, 0.2, 0.2, 0.2, 0.2]\n",
    "\n",
    "bnds = ((0, 1), (0, 1), (0, 1), (0, 1), (0, 1))\n",
    "\n",
    "w_opt = minimize(negativeSR, w0, method='SLSQP', bounds=bnds, constraints=cons)\n",
    "w_opt\n"
   ]
  },
  {
   "cell_type": "code",
   "execution_count": 7,
   "metadata": {},
   "outputs": [
    {
     "data": {
      "text/plain": [
       "1.0"
      ]
     },
     "execution_count": 7,
     "metadata": {},
     "output_type": "execute_result"
    }
   ],
   "source": [
    "np.sum(w_opt.x)"
   ]
  },
  {
   "cell_type": "code",
   "execution_count": 8,
   "metadata": {},
   "outputs": [
    {
     "data": {
      "text/plain": [
       "array([5.48783807e-02, 3.01969866e-02, 6.07153217e-18, 9.14924633e-01,\n",
       "       1.99493200e-17])"
      ]
     },
     "execution_count": 8,
     "metadata": {},
     "output_type": "execute_result"
    }
   ],
   "source": [
    "# Optimisation avec contraintes de non-négativité (short-selling interdit)\n",
    "\n",
    "from scipy.optimize import minimize\n",
    "\n",
    "def negativeSR(w):\n",
    "    w = np.array(w)\n",
    "    R = np.sum(z_bar * w)\n",
    "    V = np.sqrt(np.dot(w.T, np.dot(sigma, w)))\n",
    "    SR = R/V\n",
    "    return -1*SR\n",
    "\n",
    "def check_sum(w):\n",
    "    return np.sum(w) - 1\n",
    "\n",
    "def non_negative(w):\n",
    "    return w\n",
    "\n",
    "cons = ({'type': 'eq', 'fun': check_sum},\n",
    "        {'type': 'ineq', 'fun': non_negative})\n",
    "\n",
    "w0 = [0.2, 0.2, 0.2, 0.2, 0.2]\n",
    "\n",
    "bnds = ((0, None), (0, None), (0, None), (0, None), (0, None))\n",
    "\n",
    "w_opt = minimize(negativeSR, w0, method='SLSQP', bounds=bnds, constraints=cons)\n",
    "w_opt.x\n"
   ]
  },
  {
   "cell_type": "code",
   "execution_count": 9,
   "metadata": {},
   "outputs": [],
   "source": [
    "volatility_opt = []\n",
    "\n",
    "def min_volatility(w):\n",
    "    w = np.array(w)\n",
    "    V = np.sqrt(np.dot(w.T, np.dot(sigma, w)))\n",
    "    return V\n",
    "\n",
    "def get_return(w):\n",
    "    w = np.array(w)\n",
    "    R = np.sum(z_bar * w)\n",
    "    return R\n",
    "\n",
    "for R in range(len(target_ret)):\n",
    "    cons = ({'type': 'eq', 'fun': check_sum},\n",
    "            {'type': 'eq', 'fun': lambda w: get_return(w) - R})\n",
    "    w0 = [0.2, 0.2, 0.2, 0.2, 0.2]\n",
    "    w_opt = minimize(min_volatility, w0, method='SLSQP', bounds=bnds, constraints=cons)\n",
    "    volatility_opt.append(np.sqrt(np.dot(w_opt.x.T, np.dot(sigma, w_opt.x))))"
   ]
  },
  {
   "cell_type": "code",
   "execution_count": 13,
   "metadata": {},
   "outputs": [],
   "source": [
    "volatility_opt = []\n",
    "\n",
    "def min_volatility(w):\n",
    "    w = np.array(w)\n",
    "    V = np.sqrt(np.dot(w.T, np.dot(sigma, w)))\n",
    "    return V\n",
    "\n",
    "def get_return(w):\n",
    "    w = np.array(w)\n",
    "    R = np.sum(z_bar * w)\n",
    "    return R\n",
    "\n",
    "for R in range(len(target_ret)):\n",
    "    cons = ({'type': 'eq', 'fun': check_sum},\n",
    "            {'type': 'eq', 'fun': lambda w: target_ret[R] - get_return(w)})\n",
    "    w0 = [0.2, 0.2, 0.2, 0.2, 0.2]\n",
    "    w_opt = minimize(min_volatility, w0, method='SLSQP', bounds=bnds, constraints=cons)\n",
    "    volatility_opt.append(np.sqrt(np.dot(w_opt.x.T, np.dot(sigma, w_opt.x))))"
   ]
  },
  {
   "cell_type": "code",
   "execution_count": 14,
   "metadata": {},
   "outputs": [
    {
     "data": {
      "text/plain": [
       "[0.054102373078898876,\n",
       " 0.054102373078898876,\n",
       " 0.054102373078898876,\n",
       " 0.054102373078898876,\n",
       " 0.054102373078898876,\n",
       " 0.054102373078898876,\n",
       " 0.054102373078898876,\n",
       " 0.054102373078898876,\n",
       " 0.054102373078898876,\n",
       " 0.054102373078898876,\n",
       " 0.054102373078898876,\n",
       " 0.054102373078898876,\n",
       " 0.054102373078898876,\n",
       " 0.054102373078898876,\n",
       " 0.054102373078898876,\n",
       " 0.054102373078898876,\n",
       " 0.054102373078898876,\n",
       " 0.054102373078898876,\n",
       " 0.054102373078898876,\n",
       " 0.054102373078898876,\n",
       " 0.054102373078898876,\n",
       " 0.054102373078898876,\n",
       " 0.054102373078898876,\n",
       " 0.054102373078898876,\n",
       " 0.054102373078898876,\n",
       " 0.054102373078898876,\n",
       " 0.054102373078898876,\n",
       " 0.054102373078898876,\n",
       " 0.054102373078898876,\n",
       " 0.054102373078898876,\n",
       " 0.054102373078898876,\n",
       " 0.054102373078898876,\n",
       " 0.054102373078898876,\n",
       " 0.054102373078898876,\n",
       " 0.054102373078898876,\n",
       " 0.054102373078898876,\n",
       " 0.054102373078898876,\n",
       " 0.054102373078898876,\n",
       " 0.054102373078898876,\n",
       " 0.054102373078898876,\n",
       " 0.054102373078898876,\n",
       " 0.054102373078898876,\n",
       " 0.054102373078898876,\n",
       " 0.054102373078898876,\n",
       " 0.054102373078898876,\n",
       " 0.054102373078898876,\n",
       " 0.054102373078898876,\n",
       " 0.054102373078898876,\n",
       " 0.054102373078898876,\n",
       " 0.054102373078898876,\n",
       " 0.054102373078898876,\n",
       " 0.054102373078898876,\n",
       " 0.054102373078898876,\n",
       " 0.054102373078898876,\n",
       " 0.054102373078898876,\n",
       " 0.054102373078898876,\n",
       " 0.054102373078898876,\n",
       " 0.054102373078898876,\n",
       " 0.054102373078898876,\n",
       " 0.054102373078898876,\n",
       " 0.054102373078898876,\n",
       " 0.054102373078898876,\n",
       " 0.054102373078898876,\n",
       " 0.054102373078898876,\n",
       " 0.054102373078898876,\n",
       " 0.054102373078898876,\n",
       " 0.054102373078898876,\n",
       " 0.054102373078898876,\n",
       " 0.054102373078898876,\n",
       " 0.054102373078898876,\n",
       " 0.054102373078898876,\n",
       " 0.054102373078898876,\n",
       " 0.054102373078898876,\n",
       " 0.054102373078898876,\n",
       " 0.054102373078898876,\n",
       " 0.054102373078898876,\n",
       " 0.054102373078898876,\n",
       " 0.054102373078898876,\n",
       " 0.054102373078898876,\n",
       " 0.054102373078898876,\n",
       " 0.054102373078898876,\n",
       " 0.054102373078898876,\n",
       " 0.054102373078898876,\n",
       " 0.054102373078898876,\n",
       " 0.054102373078898876,\n",
       " 0.054102373078898876,\n",
       " 0.054102373078898876,\n",
       " 0.054102373078898876,\n",
       " 0.054102373078898876,\n",
       " 0.054102373078898876,\n",
       " 0.054102373078898876,\n",
       " 0.054102373078898876,\n",
       " 0.054102373078898876,\n",
       " 0.054102373078898876,\n",
       " 0.054102373078898876,\n",
       " 0.054102373078898876,\n",
       " 0.054102373078898876,\n",
       " 0.054102373078898876,\n",
       " 0.054102373078898876,\n",
       " 0.054102373078898876]"
      ]
     },
     "execution_count": 14,
     "metadata": {},
     "output_type": "execute_result"
    }
   ],
   "source": [
    "volatility_opt"
   ]
  },
  {
   "cell_type": "code",
   "execution_count": 12,
   "metadata": {},
   "outputs": [
    {
     "data": {
      "image/png": "[encoded data removed]",
      "text/plain": [
       "<Figure size 1000x600 with 1 Axes>"
      ]
     },
     "metadata": {},
     "output_type": "display_data"
    }
   ],
   "source": [
    "plt.figure(figsize=(10, 6))\n",
    "plt.plot(volatility_opt, target_ret)\n",
    "plt.title('Efficient Frontier')\n",
    "plt.xlabel('Volatility')\n",
    "plt.ylabel('Return')\n",
    "plt.show()\n"
   ]
  }
 ],
 "metadata": {
  "kernelspec": {
   "display_name": "HECFinance",
   "language": "python",
   "name": "python3"
  },
  "language_info": {
   "codemirror_mode": {
    "name": "ipython",
    "version": 3
   },
   "file_extension": ".py",
   "mimetype": "text/x-python",
   "name": "python",
   "nbconvert_exporter": "python",
   "pygments_lexer": "ipython3",
   "version": "3.11.4"
  }
 },
 "nbformat": 4,
 "nbformat_minor": 2
}
